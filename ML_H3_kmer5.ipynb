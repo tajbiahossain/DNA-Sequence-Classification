{
  "nbformat": 4,
  "nbformat_minor": 0,
  "metadata": {
    "colab": {
      "name": "ML-H3-kmer5.ipynb",
      "provenance": [],
      "authorship_tag": "ABX9TyPWd/I1qWhG8QPktqfC6x6V"
    },
    "kernelspec": {
      "display_name": "Python 3",
      "name": "python3"
    },
    "language_info": {
      "name": "python"
    }
  },
  "cells": [
    {
      "cell_type": "code",
      "metadata": {
        "id": "O7ikUiRk5V8m"
      },
      "source": [
        "import nltk\n",
        "import pandas as pd\n",
        "import numpy as np\n",
        "import csv\n",
        "from sklearn.feature_extraction.text import CountVectorizer\n",
        "from sklearn.model_selection import train_test_split\n",
        "from sklearn.metrics import classification_report, confusion_matrix, accuracy_score\n",
        "from pandas.plotting import scatter_matrix\n",
        "import matplotlib.pyplot as plt\n",
        "from sklearn import metrics\n",
        "%matplotlib inline\n",
        "from google.colab import files\n",
        "from sklearn.neighbors import KNeighborsClassifier\n",
        "from sklearn.tree import DecisionTreeClassifier\n",
        "from sklearn import svm\n",
        "from sklearn.naive_bayes import GaussianNB\n",
        "from sklearn.gaussian_process.kernels import RBF\n",
        "from sklearn.gaussian_process import GaussianProcessClassifier\n",
        "from sklearn.neural_network import MLPClassifier\n",
        "from sklearn.ensemble import RandomForestClassifier, AdaBoostClassifier\n",
        "from sklearn.naive_bayes import MultinomialNB\n",
        "from sklearn.linear_model import LogisticRegression\n",
        "from sklearn.model_selection import KFold, cross_val_score\n"
      ],
      "execution_count": 1,
      "outputs": []
    },
    {
      "cell_type": "code",
      "metadata": {
        "colab": {
          "resources": {
            "http://localhost:8080/nbextensions/google.colab/files.js": {
              "data": "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",
              "ok": true,
              "headers": [
                [
                  "content-type",
                  "application/javascript"
                ]
              ],
              "status": 200,
              "status_text": ""
            }
          },
          "base_uri": "https://localhost:8080/",
          "height": 178
        },
        "id": "vFDC3d6VcgFo",
        "outputId": "6fe7b5df-72dd-4654-e9c0-d7ff86916e8b"
      },
      "source": [
        "uploaded = files.upload()\n",
        "data = pd.read_csv('dataset01.txt', sep = '\\n')\n",
        "print(data.head())"
      ],
      "execution_count": 2,
      "outputs": [
        {
          "output_type": "display_data",
          "data": {
            "text/html": [
              "\n",
              "     <input type=\"file\" id=\"files-ee046baa-d8da-497a-813e-7ae64f9f0297\" name=\"files[]\" multiple disabled\n",
              "        style=\"border:none\" />\n",
              "     <output id=\"result-ee046baa-d8da-497a-813e-7ae64f9f0297\">\n",
              "      Upload widget is only available when the cell has been executed in the\n",
              "      current browser session. Please rerun this cell to enable.\n",
              "      </output>\n",
              "      <script src=\"/nbextensions/google.colab/files.js\"></script> "
            ],
            "text/plain": [
              "<IPython.core.display.HTML object>"
            ]
          },
          "metadata": {
            "tags": []
          }
        },
        {
          "output_type": "stream",
          "text": [
            "Saving dataset01.txt to dataset01.txt\n",
            "                                            all_data\n",
            "0                                     >iTELL-Chr1_61\n",
            "1  CACACCACACCCACACACCCACACACCACACCACACACCACACCAC...\n",
            "2                                                  0\n",
            "3                                   >iYAL067W-A_5085\n",
            "4  AATTTTTATAGGTCGACCCTTCTGTCGCTTACTGGGTTGATTATCT...\n"
          ],
          "name": "stdout"
        }
      ]
    },
    {
      "cell_type": "code",
      "metadata": {
        "id": "YiYQKvM1cy4z"
      },
      "source": [
        "all=data[\"all_data\"].tolist()\n",
        "cls=[]\n",
        "sequence=[]\n",
        "label=[]"
      ],
      "execution_count": 3,
      "outputs": []
    },
    {
      "cell_type": "code",
      "metadata": {
        "colab": {
          "base_uri": "https://localhost:8080/"
        },
        "id": "yrPsCHVhc7C4",
        "outputId": "307a7ffd-b660-4941-b5d4-a8db44a255ee"
      },
      "source": [
        "length = len(all)\n",
        "for i in range(length):\n",
        "   if (i%3)==0:\n",
        "             cls.append(all[i])\n",
        "   else:\n",
        "      if(all[i]== \"0\" or all[i]==\"1\"):\n",
        "        label.append(all[i])\n",
        "      else:\n",
        "         sequence.append(all[i])\n",
        "\n",
        "print(len(cls))\n",
        "print(len(label))\n",
        "print(len(sequence))"
      ],
      "execution_count": 4,
      "outputs": [
        {
          "output_type": "stream",
          "text": [
            "14965\n",
            "14965\n",
            "14965\n"
          ],
          "name": "stdout"
        }
      ]
    },
    {
      "cell_type": "code",
      "metadata": {
        "colab": {
          "base_uri": "https://localhost:8080/",
          "height": 357
        },
        "id": "Rw9ZYsjLc-34",
        "outputId": "05d543f4-3f53-4b27-93e7-2862b30e3bcd"
      },
      "source": [
        "df = pd.DataFrame(list(zip(cls, label, sequence)),\n",
        "               columns =['class' , 'label', 'sequence'])\n",
        "df.head(10)"
      ],
      "execution_count": 5,
      "outputs": [
        {
          "output_type": "execute_result",
          "data": {
            "text/html": [
              "<div>\n",
              "<style scoped>\n",
              "    .dataframe tbody tr th:only-of-type {\n",
              "        vertical-align: middle;\n",
              "    }\n",
              "\n",
              "    .dataframe tbody tr th {\n",
              "        vertical-align: top;\n",
              "    }\n",
              "\n",
              "    .dataframe thead th {\n",
              "        text-align: right;\n",
              "    }\n",
              "</style>\n",
              "<table border=\"1\" class=\"dataframe\">\n",
              "  <thead>\n",
              "    <tr style=\"text-align: right;\">\n",
              "      <th></th>\n",
              "      <th>class</th>\n",
              "      <th>label</th>\n",
              "      <th>sequence</th>\n",
              "    </tr>\n",
              "  </thead>\n",
              "  <tbody>\n",
              "    <tr>\n",
              "      <th>0</th>\n",
              "      <td>&gt;iTELL-Chr1_61</td>\n",
              "      <td>0</td>\n",
              "      <td>CACACCACACCCACACACCCACACACCACACCACACACCACACCAC...</td>\n",
              "    </tr>\n",
              "    <tr>\n",
              "      <th>1</th>\n",
              "      <td>&gt;iYAL067W-A_5085</td>\n",
              "      <td>0</td>\n",
              "      <td>AATTTTTATAGGTCGACCCTTCTGTCGCTTACTGGGTTGATTATCT...</td>\n",
              "    </tr>\n",
              "    <tr>\n",
              "      <th>2</th>\n",
              "      <td>&gt;iYAL067W-A_6786</td>\n",
              "      <td>0</td>\n",
              "      <td>AATTATATTTCCATCAGCTCAATACCGCAGTACTTTGAAACCTGAT...</td>\n",
              "    </tr>\n",
              "    <tr>\n",
              "      <th>3</th>\n",
              "      <td>&gt;iYAL067W-A_7060</td>\n",
              "      <td>0</td>\n",
              "      <td>AACAATAGTGGGTATGAGTAAAGATATATAGATCGATATTTTGAAT...</td>\n",
              "    </tr>\n",
              "    <tr>\n",
              "      <th>4</th>\n",
              "      <td>&gt;YAL067C_SEO1_8061</td>\n",
              "      <td>1</td>\n",
              "      <td>CAAAGATTTCAACCATAGTAGGTATGCCCCAGATGAAACATTACTG...</td>\n",
              "    </tr>\n",
              "    <tr>\n",
              "      <th>5</th>\n",
              "      <td>&gt;YAL067C_SEO1_8340</td>\n",
              "      <td>1</td>\n",
              "      <td>CACAATAGCGTCAATAATAAAGTTCCATCTCCATCCCTCTAAACCA...</td>\n",
              "    </tr>\n",
              "    <tr>\n",
              "      <th>6</th>\n",
              "      <td>&gt;iYAL067C_9509</td>\n",
              "      <td>1</td>\n",
              "      <td>GTTTTTTTCCAGTGACACAATCTTTACCATTACACAGTTTTTACTA...</td>\n",
              "    </tr>\n",
              "    <tr>\n",
              "      <th>7</th>\n",
              "      <td>&gt;iYAL067C_10442</td>\n",
              "      <td>0</td>\n",
              "      <td>CAGAAACATAAAATTATATCACTTTATTTCATATGGTTTCATGCTT...</td>\n",
              "    </tr>\n",
              "    <tr>\n",
              "      <th>8</th>\n",
              "      <td>&gt;YAL065C_YAL065C_11570</td>\n",
              "      <td>1</td>\n",
              "      <td>AGATACCTCGAAACAAACTCTATGTAAACACTTATTTTATTGTGGT...</td>\n",
              "    </tr>\n",
              "    <tr>\n",
              "      <th>9</th>\n",
              "      <td>&gt;iYAL064W-B_13286</td>\n",
              "      <td>1</td>\n",
              "      <td>ATGACTGGAGAAGAAGTGACTAGAGAAGAAGTGACTGAGGAAGAAA...</td>\n",
              "    </tr>\n",
              "  </tbody>\n",
              "</table>\n",
              "</div>"
            ],
            "text/plain": [
              "                    class  ...                                           sequence\n",
              "0          >iTELL-Chr1_61  ...  CACACCACACCCACACACCCACACACCACACCACACACCACACCAC...\n",
              "1        >iYAL067W-A_5085  ...  AATTTTTATAGGTCGACCCTTCTGTCGCTTACTGGGTTGATTATCT...\n",
              "2        >iYAL067W-A_6786  ...  AATTATATTTCCATCAGCTCAATACCGCAGTACTTTGAAACCTGAT...\n",
              "3        >iYAL067W-A_7060  ...  AACAATAGTGGGTATGAGTAAAGATATATAGATCGATATTTTGAAT...\n",
              "4      >YAL067C_SEO1_8061  ...  CAAAGATTTCAACCATAGTAGGTATGCCCCAGATGAAACATTACTG...\n",
              "5      >YAL067C_SEO1_8340  ...  CACAATAGCGTCAATAATAAAGTTCCATCTCCATCCCTCTAAACCA...\n",
              "6          >iYAL067C_9509  ...  GTTTTTTTCCAGTGACACAATCTTTACCATTACACAGTTTTTACTA...\n",
              "7         >iYAL067C_10442  ...  CAGAAACATAAAATTATATCACTTTATTTCATATGGTTTCATGCTT...\n",
              "8  >YAL065C_YAL065C_11570  ...  AGATACCTCGAAACAAACTCTATGTAAACACTTATTTTATTGTGGT...\n",
              "9       >iYAL064W-B_13286  ...  ATGACTGGAGAAGAAGTGACTAGAGAAGAAGTGACTGAGGAAGAAA...\n",
              "\n",
              "[10 rows x 3 columns]"
            ]
          },
          "metadata": {
            "tags": []
          },
          "execution_count": 5
        }
      ]
    },
    {
      "cell_type": "code",
      "metadata": {
        "id": "GenhvALldCwP"
      },
      "source": [
        "X = df['sequence']\n",
        "Y = df['label']"
      ],
      "execution_count": 6,
      "outputs": []
    },
    {
      "cell_type": "code",
      "metadata": {
        "id": "KxN1ekkYdJh_"
      },
      "source": [
        "def getKmers(sequence, size=5):\n",
        "    return [sequence[x:x+size].lower() for x in range(len(sequence) - size + 1)]\n",
        "    "
      ],
      "execution_count": 7,
      "outputs": []
    },
    {
      "cell_type": "code",
      "metadata": {
        "colab": {
          "base_uri": "https://localhost:8080/",
          "height": 357
        },
        "id": "L-FCWCeMdLHA",
        "outputId": "a34bfe35-b7af-498d-f6f8-7e05965f5f50"
      },
      "source": [
        "df['words'] = df.apply(lambda x: getKmers(x['sequence']), axis=1)\n",
        "df = df.drop('sequence', axis=1)\n",
        "df.head(10)             "
      ],
      "execution_count": 8,
      "outputs": [
        {
          "output_type": "execute_result",
          "data": {
            "text/html": [
              "<div>\n",
              "<style scoped>\n",
              "    .dataframe tbody tr th:only-of-type {\n",
              "        vertical-align: middle;\n",
              "    }\n",
              "\n",
              "    .dataframe tbody tr th {\n",
              "        vertical-align: top;\n",
              "    }\n",
              "\n",
              "    .dataframe thead th {\n",
              "        text-align: right;\n",
              "    }\n",
              "</style>\n",
              "<table border=\"1\" class=\"dataframe\">\n",
              "  <thead>\n",
              "    <tr style=\"text-align: right;\">\n",
              "      <th></th>\n",
              "      <th>class</th>\n",
              "      <th>label</th>\n",
              "      <th>words</th>\n",
              "    </tr>\n",
              "  </thead>\n",
              "  <tbody>\n",
              "    <tr>\n",
              "      <th>0</th>\n",
              "      <td>&gt;iTELL-Chr1_61</td>\n",
              "      <td>0</td>\n",
              "      <td>[cacac, acacc, cacca, accac, ccaca, cacac, aca...</td>\n",
              "    </tr>\n",
              "    <tr>\n",
              "      <th>1</th>\n",
              "      <td>&gt;iYAL067W-A_5085</td>\n",
              "      <td>0</td>\n",
              "      <td>[aattt, atttt, ttttt, tttta, tttat, ttata, tat...</td>\n",
              "    </tr>\n",
              "    <tr>\n",
              "      <th>2</th>\n",
              "      <td>&gt;iYAL067W-A_6786</td>\n",
              "      <td>0</td>\n",
              "      <td>[aatta, attat, ttata, tatat, atatt, tattt, att...</td>\n",
              "    </tr>\n",
              "    <tr>\n",
              "      <th>3</th>\n",
              "      <td>&gt;iYAL067W-A_7060</td>\n",
              "      <td>0</td>\n",
              "      <td>[aacaa, acaat, caata, aatag, atagt, tagtg, agt...</td>\n",
              "    </tr>\n",
              "    <tr>\n",
              "      <th>4</th>\n",
              "      <td>&gt;YAL067C_SEO1_8061</td>\n",
              "      <td>1</td>\n",
              "      <td>[caaag, aaaga, aagat, agatt, gattt, atttc, ttt...</td>\n",
              "    </tr>\n",
              "    <tr>\n",
              "      <th>5</th>\n",
              "      <td>&gt;YAL067C_SEO1_8340</td>\n",
              "      <td>1</td>\n",
              "      <td>[cacaa, acaat, caata, aatag, atagc, tagcg, agc...</td>\n",
              "    </tr>\n",
              "    <tr>\n",
              "      <th>6</th>\n",
              "      <td>&gt;iYAL067C_9509</td>\n",
              "      <td>1</td>\n",
              "      <td>[gtttt, ttttt, ttttt, ttttt, ttttc, tttcc, ttc...</td>\n",
              "    </tr>\n",
              "    <tr>\n",
              "      <th>7</th>\n",
              "      <td>&gt;iYAL067C_10442</td>\n",
              "      <td>0</td>\n",
              "      <td>[cagaa, agaaa, gaaac, aaaca, aacat, acata, cat...</td>\n",
              "    </tr>\n",
              "    <tr>\n",
              "      <th>8</th>\n",
              "      <td>&gt;YAL065C_YAL065C_11570</td>\n",
              "      <td>1</td>\n",
              "      <td>[agata, gatac, atacc, tacct, acctc, cctcg, ctc...</td>\n",
              "    </tr>\n",
              "    <tr>\n",
              "      <th>9</th>\n",
              "      <td>&gt;iYAL064W-B_13286</td>\n",
              "      <td>1</td>\n",
              "      <td>[atgac, tgact, gactg, actgg, ctgga, tggag, gga...</td>\n",
              "    </tr>\n",
              "  </tbody>\n",
              "</table>\n",
              "</div>"
            ],
            "text/plain": [
              "                    class  ...                                              words\n",
              "0          >iTELL-Chr1_61  ...  [cacac, acacc, cacca, accac, ccaca, cacac, aca...\n",
              "1        >iYAL067W-A_5085  ...  [aattt, atttt, ttttt, tttta, tttat, ttata, tat...\n",
              "2        >iYAL067W-A_6786  ...  [aatta, attat, ttata, tatat, atatt, tattt, att...\n",
              "3        >iYAL067W-A_7060  ...  [aacaa, acaat, caata, aatag, atagt, tagtg, agt...\n",
              "4      >YAL067C_SEO1_8061  ...  [caaag, aaaga, aagat, agatt, gattt, atttc, ttt...\n",
              "5      >YAL067C_SEO1_8340  ...  [cacaa, acaat, caata, aatag, atagc, tagcg, agc...\n",
              "6          >iYAL067C_9509  ...  [gtttt, ttttt, ttttt, ttttt, ttttc, tttcc, ttc...\n",
              "7         >iYAL067C_10442  ...  [cagaa, agaaa, gaaac, aaaca, aacat, acata, cat...\n",
              "8  >YAL065C_YAL065C_11570  ...  [agata, gatac, atacc, tacct, acctc, cctcg, ctc...\n",
              "9       >iYAL064W-B_13286  ...  [atgac, tgact, gactg, actgg, ctgga, tggag, gga...\n",
              "\n",
              "[10 rows x 3 columns]"
            ]
          },
          "metadata": {
            "tags": []
          },
          "execution_count": 8
        }
      ]
    },
    {
      "cell_type": "code",
      "metadata": {
        "id": "eQf52f0jdTxH"
      },
      "source": [
        "dna_texts = list(df['words'])\n",
        "for item in range(len(dna_texts)):\n",
        "    dna_texts[item] = ' '.join(dna_texts[item])\n",
        "y_data = df['label'].values"
      ],
      "execution_count": 9,
      "outputs": []
    },
    {
      "cell_type": "markdown",
      "metadata": {
        "id": "CGqiZ97oau7Z"
      },
      "source": [
        "Bag of words"
      ]
    },
    {
      "cell_type": "code",
      "metadata": {
        "colab": {
          "base_uri": "https://localhost:8080/"
        },
        "id": "7lgwq3EIdUaP",
        "outputId": "f12d97b1-a61e-4d6a-c62c-ec3271870b69"
      },
      "source": [
        "cv = CountVectorizer(ngram_range=(4,4))\n",
        "X = cv.fit_transform(dna_texts)\n",
        "print(X.shape)"
      ],
      "execution_count": 10,
      "outputs": [
        {
          "output_type": "stream",
          "text": [
            "(14965, 65536)\n"
          ],
          "name": "stdout"
        }
      ]
    },
    {
      "cell_type": "code",
      "metadata": {
        "colab": {
          "base_uri": "https://localhost:8080/"
        },
        "id": "wC3d5evFdc_H",
        "outputId": "895b08c1-fa88-499e-adc0-9dc6cbd2528b"
      },
      "source": [
        "X_train, X_test, y_train, y_test = train_test_split(X, y_data, test_size = 0.25,  shuffle = True) \n",
        "\n",
        "print(X_train.shape)\n",
        "print(X_test.shape)                                         "
      ],
      "execution_count": 11,
      "outputs": [
        {
          "output_type": "stream",
          "text": [
            "(11223, 65536)\n",
            "(3742, 65536)\n"
          ],
          "name": "stdout"
        }
      ]
    },
    {
      "cell_type": "code",
      "metadata": {
        "colab": {
          "base_uri": "https://localhost:8080/"
        },
        "id": "nZNMbKMSeQcu",
        "outputId": "61260f6a-256a-41ad-a1e0-959df52271db"
      },
      "source": [
        "scoring = 'accuracy'\n",
        "\n",
        "names = ['K Nearest Neighbors', 'Decision Tree', 'Random Forest', 'AddaBoost', 'Multinomial NB',\n",
        "         'SVM Linear', 'Logistic Regression']\n",
        "Classifiers = [\n",
        "    KNeighborsClassifier(n_neighbors = 3),\n",
        "    DecisionTreeClassifier(),\n",
        "    RandomForestClassifier(n_estimators = 100, max_features = 1 ),\n",
        "    AdaBoostClassifier(),\n",
        "    MultinomialNB(alpha=0.1),\n",
        "    svm.SVC(C=1.0, kernel='linear', degree=3, gamma='auto'),\n",
        "    LogisticRegression(verbose=1, solver='liblinear',random_state=0, C=2, penalty='l2',max_iter=1000)\n",
        "     ]\n",
        "\n",
        "models = zip(names, Classifiers)\n",
        "for name, model in models:\n",
        "    model.fit(X_train, y_train)\n",
        "    y_pred = model.predict(X_test)\n",
        "    print(name)\n",
        "    print(confusion_matrix(y_test, y_pred))\n",
        "    print(classification_report(y_test, y_pred))\n",
        "    print(accuracy_score(y_test, y_pred))\n"
      ],
      "execution_count": 12,
      "outputs": [
        {
          "output_type": "stream",
          "text": [
            "K Nearest Neighbors\n",
            "[[1758   67]\n",
            " [ 959  958]]\n",
            "              precision    recall  f1-score   support\n",
            "\n",
            "           0       0.65      0.96      0.77      1825\n",
            "           1       0.93      0.50      0.65      1917\n",
            "\n",
            "    accuracy                           0.73      3742\n",
            "   macro avg       0.79      0.73      0.71      3742\n",
            "weighted avg       0.79      0.73      0.71      3742\n",
            "\n",
            "0.7258150721539284\n",
            "Decision Tree\n",
            "[[1270  555]\n",
            " [ 535 1382]]\n",
            "              precision    recall  f1-score   support\n",
            "\n",
            "           0       0.70      0.70      0.70      1825\n",
            "           1       0.71      0.72      0.72      1917\n",
            "\n",
            "    accuracy                           0.71      3742\n",
            "   macro avg       0.71      0.71      0.71      3742\n",
            "weighted avg       0.71      0.71      0.71      3742\n",
            "\n",
            "0.7087119187600214\n",
            "Random Forest\n",
            "[[1511  314]\n",
            " [ 450 1467]]\n",
            "              precision    recall  f1-score   support\n",
            "\n",
            "           0       0.77      0.83      0.80      1825\n",
            "           1       0.82      0.77      0.79      1917\n",
            "\n",
            "    accuracy                           0.80      3742\n",
            "   macro avg       0.80      0.80      0.80      3742\n",
            "weighted avg       0.80      0.80      0.80      3742\n",
            "\n",
            "0.7958311063602351\n",
            "AddaBoost\n",
            "[[1249  576]\n",
            " [ 430 1487]]\n",
            "              precision    recall  f1-score   support\n",
            "\n",
            "           0       0.74      0.68      0.71      1825\n",
            "           1       0.72      0.78      0.75      1917\n",
            "\n",
            "    accuracy                           0.73      3742\n",
            "   macro avg       0.73      0.73      0.73      3742\n",
            "weighted avg       0.73      0.73      0.73      3742\n",
            "\n",
            "0.7311598075895244\n",
            "Multinomial NB\n",
            "[[1535  290]\n",
            " [ 273 1644]]\n",
            "              precision    recall  f1-score   support\n",
            "\n",
            "           0       0.85      0.84      0.85      1825\n",
            "           1       0.85      0.86      0.85      1917\n",
            "\n",
            "    accuracy                           0.85      3742\n",
            "   macro avg       0.85      0.85      0.85      3742\n",
            "weighted avg       0.85      0.85      0.85      3742\n",
            "\n",
            "0.8495456974879744\n",
            "SVM Linear\n",
            "[[1548  277]\n",
            " [ 286 1631]]\n",
            "              precision    recall  f1-score   support\n",
            "\n",
            "           0       0.84      0.85      0.85      1825\n",
            "           1       0.85      0.85      0.85      1917\n",
            "\n",
            "    accuracy                           0.85      3742\n",
            "   macro avg       0.85      0.85      0.85      3742\n",
            "weighted avg       0.85      0.85      0.85      3742\n",
            "\n",
            "0.8495456974879744\n",
            "[LibLinear]Logistic Regression\n",
            "[[1561  264]\n",
            " [ 262 1655]]\n",
            "              precision    recall  f1-score   support\n",
            "\n",
            "           0       0.86      0.86      0.86      1825\n",
            "           1       0.86      0.86      0.86      1917\n",
            "\n",
            "    accuracy                           0.86      3742\n",
            "   macro avg       0.86      0.86      0.86      3742\n",
            "weighted avg       0.86      0.86      0.86      3742\n",
            "\n",
            "0.8594334580438269\n"
          ],
          "name": "stdout"
        }
      ]
    }
  ]
}
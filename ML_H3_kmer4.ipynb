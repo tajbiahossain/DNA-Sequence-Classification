{
  "nbformat": 4,
  "nbformat_minor": 0,
  "metadata": {
    "colab": {
      "name": "ML-H3-kmer4.ipynb",
      "provenance": [],
      "authorship_tag": "ABX9TyPZXnB0lCx93zXd1cNUz1S2"
    },
    "kernelspec": {
      "display_name": "Python 3",
      "name": "python3"
    },
    "language_info": {
      "name": "python"
    }
  },
  "cells": [
    {
      "cell_type": "code",
      "metadata": {
        "id": "O7ikUiRk5V8m"
      },
      "source": [
        "import nltk\n",
        "import pandas as pd\n",
        "import numpy as np\n",
        "import csv\n",
        "from sklearn.feature_extraction.text import CountVectorizer\n",
        "from sklearn.model_selection import train_test_split\n",
        "from sklearn.metrics import classification_report, confusion_matrix, accuracy_score\n",
        "from pandas.plotting import scatter_matrix\n",
        "import matplotlib.pyplot as plt\n",
        "from sklearn import metrics\n",
        "%matplotlib inline\n",
        "from google.colab import files\n",
        "from sklearn.neighbors import KNeighborsClassifier\n",
        "from sklearn.tree import DecisionTreeClassifier\n",
        "from sklearn import svm\n",
        "from sklearn.naive_bayes import GaussianNB\n",
        "from sklearn.gaussian_process.kernels import RBF\n",
        "from sklearn.gaussian_process import GaussianProcessClassifier\n",
        "from sklearn.neural_network import MLPClassifier\n",
        "from sklearn.ensemble import RandomForestClassifier, AdaBoostClassifier\n",
        "from sklearn.naive_bayes import MultinomialNB\n",
        "from sklearn.linear_model import LogisticRegression\n",
        "from sklearn.model_selection import KFold, cross_val_score\n"
      ],
      "execution_count": 13,
      "outputs": []
    },
    {
      "cell_type": "code",
      "metadata": {
        "colab": {
          "resources": {
            "http://localhost:8080/nbextensions/google.colab/files.js": {
              "data": "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",
              "ok": true,
              "headers": [
                [
                  "content-type",
                  "application/javascript"
                ]
              ],
              "status": 200,
              "status_text": ""
            }
          },
          "base_uri": "https://localhost:8080/",
          "height": 178
        },
        "id": "vFDC3d6VcgFo",
        "outputId": "5bf1b1ad-9aea-437d-a731-b838c186a70a"
      },
      "source": [
        "uploaded = files.upload()\n",
        "data = pd.read_csv('dataset01.txt', sep = '\\n')\n",
        "print(data.head())"
      ],
      "execution_count": 14,
      "outputs": [
        {
          "output_type": "display_data",
          "data": {
            "text/html": [
              "\n",
              "     <input type=\"file\" id=\"files-b53272d0-c41a-4672-aa4c-5d4d48183162\" name=\"files[]\" multiple disabled\n",
              "        style=\"border:none\" />\n",
              "     <output id=\"result-b53272d0-c41a-4672-aa4c-5d4d48183162\">\n",
              "      Upload widget is only available when the cell has been executed in the\n",
              "      current browser session. Please rerun this cell to enable.\n",
              "      </output>\n",
              "      <script src=\"/nbextensions/google.colab/files.js\"></script> "
            ],
            "text/plain": [
              "<IPython.core.display.HTML object>"
            ]
          },
          "metadata": {
            "tags": []
          }
        },
        {
          "output_type": "stream",
          "text": [
            "Saving dataset01.txt to dataset01 (1).txt\n",
            "                                            all_data\n",
            "0                                     >iTELL-Chr1_61\n",
            "1  CACACCACACCCACACACCCACACACCACACCACACACCACACCAC...\n",
            "2                                                  0\n",
            "3                                   >iYAL067W-A_5085\n",
            "4  AATTTTTATAGGTCGACCCTTCTGTCGCTTACTGGGTTGATTATCT...\n"
          ],
          "name": "stdout"
        }
      ]
    },
    {
      "cell_type": "code",
      "metadata": {
        "id": "YiYQKvM1cy4z"
      },
      "source": [
        "all=data[\"all_data\"].tolist()\n",
        "cls=[]\n",
        "sequence=[]\n",
        "label=[]"
      ],
      "execution_count": 15,
      "outputs": []
    },
    {
      "cell_type": "code",
      "metadata": {
        "colab": {
          "base_uri": "https://localhost:8080/"
        },
        "id": "yrPsCHVhc7C4",
        "outputId": "f75040d4-26d4-4b83-9ce1-498e3177553a"
      },
      "source": [
        "length = len(all)\n",
        "for i in range(length):\n",
        "   if (i%3)==0:\n",
        "             cls.append(all[i])\n",
        "   else:\n",
        "      if(all[i]== \"0\" or all[i]==\"1\"):\n",
        "        label.append(all[i])\n",
        "      else:\n",
        "         sequence.append(all[i])\n",
        "\n",
        "print(len(cls))\n",
        "print(len(label))\n",
        "print(len(sequence))"
      ],
      "execution_count": 16,
      "outputs": [
        {
          "output_type": "stream",
          "text": [
            "14965\n",
            "14965\n",
            "14965\n"
          ],
          "name": "stdout"
        }
      ]
    },
    {
      "cell_type": "code",
      "metadata": {
        "colab": {
          "base_uri": "https://localhost:8080/",
          "height": 357
        },
        "id": "Rw9ZYsjLc-34",
        "outputId": "6ddd3ba2-7f91-41cc-8bee-e0a8f0010e22"
      },
      "source": [
        "df = pd.DataFrame(list(zip(cls, label, sequence)),\n",
        "               columns =['class' , 'label', 'sequence'])\n",
        "df.head(10)"
      ],
      "execution_count": 17,
      "outputs": [
        {
          "output_type": "execute_result",
          "data": {
            "text/html": [
              "<div>\n",
              "<style scoped>\n",
              "    .dataframe tbody tr th:only-of-type {\n",
              "        vertical-align: middle;\n",
              "    }\n",
              "\n",
              "    .dataframe tbody tr th {\n",
              "        vertical-align: top;\n",
              "    }\n",
              "\n",
              "    .dataframe thead th {\n",
              "        text-align: right;\n",
              "    }\n",
              "</style>\n",
              "<table border=\"1\" class=\"dataframe\">\n",
              "  <thead>\n",
              "    <tr style=\"text-align: right;\">\n",
              "      <th></th>\n",
              "      <th>class</th>\n",
              "      <th>label</th>\n",
              "      <th>sequence</th>\n",
              "    </tr>\n",
              "  </thead>\n",
              "  <tbody>\n",
              "    <tr>\n",
              "      <th>0</th>\n",
              "      <td>&gt;iTELL-Chr1_61</td>\n",
              "      <td>0</td>\n",
              "      <td>CACACCACACCCACACACCCACACACCACACCACACACCACACCAC...</td>\n",
              "    </tr>\n",
              "    <tr>\n",
              "      <th>1</th>\n",
              "      <td>&gt;iYAL067W-A_5085</td>\n",
              "      <td>0</td>\n",
              "      <td>AATTTTTATAGGTCGACCCTTCTGTCGCTTACTGGGTTGATTATCT...</td>\n",
              "    </tr>\n",
              "    <tr>\n",
              "      <th>2</th>\n",
              "      <td>&gt;iYAL067W-A_6786</td>\n",
              "      <td>0</td>\n",
              "      <td>AATTATATTTCCATCAGCTCAATACCGCAGTACTTTGAAACCTGAT...</td>\n",
              "    </tr>\n",
              "    <tr>\n",
              "      <th>3</th>\n",
              "      <td>&gt;iYAL067W-A_7060</td>\n",
              "      <td>0</td>\n",
              "      <td>AACAATAGTGGGTATGAGTAAAGATATATAGATCGATATTTTGAAT...</td>\n",
              "    </tr>\n",
              "    <tr>\n",
              "      <th>4</th>\n",
              "      <td>&gt;YAL067C_SEO1_8061</td>\n",
              "      <td>1</td>\n",
              "      <td>CAAAGATTTCAACCATAGTAGGTATGCCCCAGATGAAACATTACTG...</td>\n",
              "    </tr>\n",
              "    <tr>\n",
              "      <th>5</th>\n",
              "      <td>&gt;YAL067C_SEO1_8340</td>\n",
              "      <td>1</td>\n",
              "      <td>CACAATAGCGTCAATAATAAAGTTCCATCTCCATCCCTCTAAACCA...</td>\n",
              "    </tr>\n",
              "    <tr>\n",
              "      <th>6</th>\n",
              "      <td>&gt;iYAL067C_9509</td>\n",
              "      <td>1</td>\n",
              "      <td>GTTTTTTTCCAGTGACACAATCTTTACCATTACACAGTTTTTACTA...</td>\n",
              "    </tr>\n",
              "    <tr>\n",
              "      <th>7</th>\n",
              "      <td>&gt;iYAL067C_10442</td>\n",
              "      <td>0</td>\n",
              "      <td>CAGAAACATAAAATTATATCACTTTATTTCATATGGTTTCATGCTT...</td>\n",
              "    </tr>\n",
              "    <tr>\n",
              "      <th>8</th>\n",
              "      <td>&gt;YAL065C_YAL065C_11570</td>\n",
              "      <td>1</td>\n",
              "      <td>AGATACCTCGAAACAAACTCTATGTAAACACTTATTTTATTGTGGT...</td>\n",
              "    </tr>\n",
              "    <tr>\n",
              "      <th>9</th>\n",
              "      <td>&gt;iYAL064W-B_13286</td>\n",
              "      <td>1</td>\n",
              "      <td>ATGACTGGAGAAGAAGTGACTAGAGAAGAAGTGACTGAGGAAGAAA...</td>\n",
              "    </tr>\n",
              "  </tbody>\n",
              "</table>\n",
              "</div>"
            ],
            "text/plain": [
              "                    class  ...                                           sequence\n",
              "0          >iTELL-Chr1_61  ...  CACACCACACCCACACACCCACACACCACACCACACACCACACCAC...\n",
              "1        >iYAL067W-A_5085  ...  AATTTTTATAGGTCGACCCTTCTGTCGCTTACTGGGTTGATTATCT...\n",
              "2        >iYAL067W-A_6786  ...  AATTATATTTCCATCAGCTCAATACCGCAGTACTTTGAAACCTGAT...\n",
              "3        >iYAL067W-A_7060  ...  AACAATAGTGGGTATGAGTAAAGATATATAGATCGATATTTTGAAT...\n",
              "4      >YAL067C_SEO1_8061  ...  CAAAGATTTCAACCATAGTAGGTATGCCCCAGATGAAACATTACTG...\n",
              "5      >YAL067C_SEO1_8340  ...  CACAATAGCGTCAATAATAAAGTTCCATCTCCATCCCTCTAAACCA...\n",
              "6          >iYAL067C_9509  ...  GTTTTTTTCCAGTGACACAATCTTTACCATTACACAGTTTTTACTA...\n",
              "7         >iYAL067C_10442  ...  CAGAAACATAAAATTATATCACTTTATTTCATATGGTTTCATGCTT...\n",
              "8  >YAL065C_YAL065C_11570  ...  AGATACCTCGAAACAAACTCTATGTAAACACTTATTTTATTGTGGT...\n",
              "9       >iYAL064W-B_13286  ...  ATGACTGGAGAAGAAGTGACTAGAGAAGAAGTGACTGAGGAAGAAA...\n",
              "\n",
              "[10 rows x 3 columns]"
            ]
          },
          "metadata": {
            "tags": []
          },
          "execution_count": 17
        }
      ]
    },
    {
      "cell_type": "code",
      "metadata": {
        "id": "GenhvALldCwP"
      },
      "source": [
        "X = df['sequence']\n",
        "Y = df['label']"
      ],
      "execution_count": 18,
      "outputs": []
    },
    {
      "cell_type": "code",
      "metadata": {
        "id": "KxN1ekkYdJh_"
      },
      "source": [
        "def getKmers(sequence, size=4):\n",
        "    return [sequence[x:x+size].lower() for x in range(len(sequence) - size + 1)]\n",
        "    "
      ],
      "execution_count": 19,
      "outputs": []
    },
    {
      "cell_type": "code",
      "metadata": {
        "colab": {
          "base_uri": "https://localhost:8080/",
          "height": 357
        },
        "id": "L-FCWCeMdLHA",
        "outputId": "d2dd76eb-ee07-4ba4-b520-24db89194743"
      },
      "source": [
        "df['words'] = df.apply(lambda x: getKmers(x['sequence']), axis=1)\n",
        "df = df.drop('sequence', axis=1)\n",
        "df.head(10)             "
      ],
      "execution_count": 20,
      "outputs": [
        {
          "output_type": "execute_result",
          "data": {
            "text/html": [
              "<div>\n",
              "<style scoped>\n",
              "    .dataframe tbody tr th:only-of-type {\n",
              "        vertical-align: middle;\n",
              "    }\n",
              "\n",
              "    .dataframe tbody tr th {\n",
              "        vertical-align: top;\n",
              "    }\n",
              "\n",
              "    .dataframe thead th {\n",
              "        text-align: right;\n",
              "    }\n",
              "</style>\n",
              "<table border=\"1\" class=\"dataframe\">\n",
              "  <thead>\n",
              "    <tr style=\"text-align: right;\">\n",
              "      <th></th>\n",
              "      <th>class</th>\n",
              "      <th>label</th>\n",
              "      <th>words</th>\n",
              "    </tr>\n",
              "  </thead>\n",
              "  <tbody>\n",
              "    <tr>\n",
              "      <th>0</th>\n",
              "      <td>&gt;iTELL-Chr1_61</td>\n",
              "      <td>0</td>\n",
              "      <td>[caca, acac, cacc, acca, ccac, caca, acac, cac...</td>\n",
              "    </tr>\n",
              "    <tr>\n",
              "      <th>1</th>\n",
              "      <td>&gt;iYAL067W-A_5085</td>\n",
              "      <td>0</td>\n",
              "      <td>[aatt, attt, tttt, tttt, ttta, ttat, tata, ata...</td>\n",
              "    </tr>\n",
              "    <tr>\n",
              "      <th>2</th>\n",
              "      <td>&gt;iYAL067W-A_6786</td>\n",
              "      <td>0</td>\n",
              "      <td>[aatt, atta, ttat, tata, atat, tatt, attt, ttt...</td>\n",
              "    </tr>\n",
              "    <tr>\n",
              "      <th>3</th>\n",
              "      <td>&gt;iYAL067W-A_7060</td>\n",
              "      <td>0</td>\n",
              "      <td>[aaca, acaa, caat, aata, atag, tagt, agtg, gtg...</td>\n",
              "    </tr>\n",
              "    <tr>\n",
              "      <th>4</th>\n",
              "      <td>&gt;YAL067C_SEO1_8061</td>\n",
              "      <td>1</td>\n",
              "      <td>[caaa, aaag, aaga, agat, gatt, attt, tttc, ttc...</td>\n",
              "    </tr>\n",
              "    <tr>\n",
              "      <th>5</th>\n",
              "      <td>&gt;YAL067C_SEO1_8340</td>\n",
              "      <td>1</td>\n",
              "      <td>[caca, acaa, caat, aata, atag, tagc, agcg, gcg...</td>\n",
              "    </tr>\n",
              "    <tr>\n",
              "      <th>6</th>\n",
              "      <td>&gt;iYAL067C_9509</td>\n",
              "      <td>1</td>\n",
              "      <td>[gttt, tttt, tttt, tttt, tttt, tttc, ttcc, tcc...</td>\n",
              "    </tr>\n",
              "    <tr>\n",
              "      <th>7</th>\n",
              "      <td>&gt;iYAL067C_10442</td>\n",
              "      <td>0</td>\n",
              "      <td>[caga, agaa, gaaa, aaac, aaca, acat, cata, ata...</td>\n",
              "    </tr>\n",
              "    <tr>\n",
              "      <th>8</th>\n",
              "      <td>&gt;YAL065C_YAL065C_11570</td>\n",
              "      <td>1</td>\n",
              "      <td>[agat, gata, atac, tacc, acct, cctc, ctcg, tcg...</td>\n",
              "    </tr>\n",
              "    <tr>\n",
              "      <th>9</th>\n",
              "      <td>&gt;iYAL064W-B_13286</td>\n",
              "      <td>1</td>\n",
              "      <td>[atga, tgac, gact, actg, ctgg, tgga, ggag, gag...</td>\n",
              "    </tr>\n",
              "  </tbody>\n",
              "</table>\n",
              "</div>"
            ],
            "text/plain": [
              "                    class  ...                                              words\n",
              "0          >iTELL-Chr1_61  ...  [caca, acac, cacc, acca, ccac, caca, acac, cac...\n",
              "1        >iYAL067W-A_5085  ...  [aatt, attt, tttt, tttt, ttta, ttat, tata, ata...\n",
              "2        >iYAL067W-A_6786  ...  [aatt, atta, ttat, tata, atat, tatt, attt, ttt...\n",
              "3        >iYAL067W-A_7060  ...  [aaca, acaa, caat, aata, atag, tagt, agtg, gtg...\n",
              "4      >YAL067C_SEO1_8061  ...  [caaa, aaag, aaga, agat, gatt, attt, tttc, ttc...\n",
              "5      >YAL067C_SEO1_8340  ...  [caca, acaa, caat, aata, atag, tagc, agcg, gcg...\n",
              "6          >iYAL067C_9509  ...  [gttt, tttt, tttt, tttt, tttt, tttc, ttcc, tcc...\n",
              "7         >iYAL067C_10442  ...  [caga, agaa, gaaa, aaac, aaca, acat, cata, ata...\n",
              "8  >YAL065C_YAL065C_11570  ...  [agat, gata, atac, tacc, acct, cctc, ctcg, tcg...\n",
              "9       >iYAL064W-B_13286  ...  [atga, tgac, gact, actg, ctgg, tgga, ggag, gag...\n",
              "\n",
              "[10 rows x 3 columns]"
            ]
          },
          "metadata": {
            "tags": []
          },
          "execution_count": 20
        }
      ]
    },
    {
      "cell_type": "code",
      "metadata": {
        "id": "eQf52f0jdTxH"
      },
      "source": [
        "dna_texts = list(df['words'])\n",
        "for item in range(len(dna_texts)):\n",
        "    dna_texts[item] = ' '.join(dna_texts[item])\n",
        "y_data = df['label'].values"
      ],
      "execution_count": 21,
      "outputs": []
    },
    {
      "cell_type": "markdown",
      "metadata": {
        "id": "CGqiZ97oau7Z"
      },
      "source": [
        "Bag of words"
      ]
    },
    {
      "cell_type": "code",
      "metadata": {
        "colab": {
          "base_uri": "https://localhost:8080/"
        },
        "id": "7lgwq3EIdUaP",
        "outputId": "2ed59940-41b4-475e-b95e-acf89330d479"
      },
      "source": [
        "cv = CountVectorizer(ngram_range=(4,4))\n",
        "X = cv.fit_transform(dna_texts)\n",
        "print(X.shape)"
      ],
      "execution_count": 22,
      "outputs": [
        {
          "output_type": "stream",
          "text": [
            "(14965, 16384)\n"
          ],
          "name": "stdout"
        }
      ]
    },
    {
      "cell_type": "code",
      "metadata": {
        "colab": {
          "base_uri": "https://localhost:8080/"
        },
        "id": "wC3d5evFdc_H",
        "outputId": "84af268d-c162-4d2a-b43e-ffcc3ddf5320"
      },
      "source": [
        "X_train, X_test, y_train, y_test = train_test_split(X, y_data, test_size = 0.25,  shuffle = True) \n",
        "\n",
        "print(X_train.shape)\n",
        "print(X_test.shape)                                         "
      ],
      "execution_count": 23,
      "outputs": [
        {
          "output_type": "stream",
          "text": [
            "(11223, 16384)\n",
            "(3742, 16384)\n"
          ],
          "name": "stdout"
        }
      ]
    },
    {
      "cell_type": "code",
      "metadata": {
        "colab": {
          "base_uri": "https://localhost:8080/"
        },
        "id": "nZNMbKMSeQcu",
        "outputId": "55f85cd6-8eb9-458f-d718-462483fc94b9"
      },
      "source": [
        "scoring = 'accuracy'\n",
        "\n",
        "names = ['K Nearest Neighbors', 'Decision Tree', 'Random Forest', 'AddaBoost', 'Multinomial NB',\n",
        "         'SVM Linear', 'Logistic Regression']\n",
        "Classifiers = [\n",
        "    KNeighborsClassifier(n_neighbors = 3),\n",
        "    DecisionTreeClassifier(),\n",
        "    RandomForestClassifier(n_estimators = 100, max_features = 1 ),\n",
        "    AdaBoostClassifier(),\n",
        "    MultinomialNB(alpha=0.1),\n",
        "    svm.SVC(C=1.0, kernel='linear', degree=3, gamma='auto'),\n",
        "    LogisticRegression(verbose=1, solver='liblinear',random_state=0, C=2, penalty='l2',max_iter=1000)\n",
        "     ]\n",
        "\n",
        "models = zip(names, Classifiers)\n",
        "for name, model in models:\n",
        "    model.fit(X_train, y_train)\n",
        "    y_pred = model.predict(X_test)\n",
        "    print(name)\n",
        "    print(confusion_matrix(y_test, y_pred))\n",
        "    print(classification_report(y_test, y_pred))\n",
        "    print(accuracy_score(y_test, y_pred))\n"
      ],
      "execution_count": 24,
      "outputs": [
        {
          "output_type": "stream",
          "text": [
            "K Nearest Neighbors\n",
            "[[1664  195]\n",
            " [ 537 1346]]\n",
            "              precision    recall  f1-score   support\n",
            "\n",
            "           0       0.76      0.90      0.82      1859\n",
            "           1       0.87      0.71      0.79      1883\n",
            "\n",
            "    accuracy                           0.80      3742\n",
            "   macro avg       0.81      0.80      0.80      3742\n",
            "weighted avg       0.82      0.80      0.80      3742\n",
            "\n",
            "0.8043826830571886\n",
            "Decision Tree\n",
            "[[1252  607]\n",
            " [ 605 1278]]\n",
            "              precision    recall  f1-score   support\n",
            "\n",
            "           0       0.67      0.67      0.67      1859\n",
            "           1       0.68      0.68      0.68      1883\n",
            "\n",
            "    accuracy                           0.68      3742\n",
            "   macro avg       0.68      0.68      0.68      3742\n",
            "weighted avg       0.68      0.68      0.68      3742\n",
            "\n",
            "0.6761090326028861\n",
            "Random Forest\n",
            "[[1490  369]\n",
            " [ 445 1438]]\n",
            "              precision    recall  f1-score   support\n",
            "\n",
            "           0       0.77      0.80      0.79      1859\n",
            "           1       0.80      0.76      0.78      1883\n",
            "\n",
            "    accuracy                           0.78      3742\n",
            "   macro avg       0.78      0.78      0.78      3742\n",
            "weighted avg       0.78      0.78      0.78      3742\n",
            "\n",
            "0.7824692677712454\n",
            "AddaBoost\n",
            "[[1352  507]\n",
            " [ 404 1479]]\n",
            "              precision    recall  f1-score   support\n",
            "\n",
            "           0       0.77      0.73      0.75      1859\n",
            "           1       0.74      0.79      0.76      1883\n",
            "\n",
            "    accuracy                           0.76      3742\n",
            "   macro avg       0.76      0.76      0.76      3742\n",
            "weighted avg       0.76      0.76      0.76      3742\n",
            "\n",
            "0.756547300908605\n",
            "Multinomial NB\n",
            "[[1515  344]\n",
            " [ 335 1548]]\n",
            "              precision    recall  f1-score   support\n",
            "\n",
            "           0       0.82      0.81      0.82      1859\n",
            "           1       0.82      0.82      0.82      1883\n",
            "\n",
            "    accuracy                           0.82      3742\n",
            "   macro avg       0.82      0.82      0.82      3742\n",
            "weighted avg       0.82      0.82      0.82      3742\n",
            "\n",
            "0.8185462319615179\n",
            "SVM Linear\n",
            "[[1506  353]\n",
            " [ 330 1553]]\n",
            "              precision    recall  f1-score   support\n",
            "\n",
            "           0       0.82      0.81      0.82      1859\n",
            "           1       0.81      0.82      0.82      1883\n",
            "\n",
            "    accuracy                           0.82      3742\n",
            "   macro avg       0.82      0.82      0.82      3742\n",
            "weighted avg       0.82      0.82      0.82      3742\n",
            "\n",
            "0.8174772848743987\n",
            "[LibLinear]Logistic Regression\n",
            "[[1531  328]\n",
            " [ 300 1583]]\n",
            "              precision    recall  f1-score   support\n",
            "\n",
            "           0       0.84      0.82      0.83      1859\n",
            "           1       0.83      0.84      0.83      1883\n",
            "\n",
            "    accuracy                           0.83      3742\n",
            "   macro avg       0.83      0.83      0.83      3742\n",
            "weighted avg       0.83      0.83      0.83      3742\n",
            "\n",
            "0.8321753073222875\n"
          ],
          "name": "stdout"
        }
      ]
    }
  ]
}